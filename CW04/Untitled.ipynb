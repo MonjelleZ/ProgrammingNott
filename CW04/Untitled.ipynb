{
 "cells": [
  {
   "cell_type": "code",
   "execution_count": 63,
   "id": "cbc713ae",
   "metadata": {},
   "outputs": [],
   "source": [
    "class File :\n",
    "\n",
    "    def __init__(self):\n",
    "        self.owner = \"default\"\n",
    "        self.perm = \"rwxrwxrwx\"\n",
    "        \n"
   ]
  },
  {
   "cell_type": "code",
   "execution_count": 64,
   "id": "cd798ba5",
   "metadata": {},
   "outputs": [],
   "source": [
    "class Dir(File):\n",
    "\n",
    "    def __init__(self,name,filelist) :\n",
    "        self.name = name\n",
    "        self.filelist = filelist\n",
    "        File.__init__(self)"
   ]
  },
  {
   "cell_type": "code",
   "execution_count": 92,
   "id": "9bce86a1",
   "metadata": {},
   "outputs": [],
   "source": [
    "class Directory(File):\n",
    "\n",
    "    def __init__(self,name,filelist) :\n",
    "        self.name = name\n",
    "        self.filelist = filelist\n",
    "        File.__init__(self)\n"
   ]
  },
  {
   "cell_type": "code",
   "execution_count": 93,
   "id": "599dcec6",
   "metadata": {},
   "outputs": [
    {
     "ename": "TypeError",
     "evalue": "__init__() got an unexpected keyword argument 'owner'",
     "output_type": "error",
     "traceback": [
      "\u001b[0;31m---------------------------------------------------------------------------\u001b[0m",
      "\u001b[0;31mTypeError\u001b[0m                                 Traceback (most recent call last)",
      "\u001b[0;32m<ipython-input-93-dd54e5bad644>\u001b[0m in \u001b[0;36m<module>\u001b[0;34m\u001b[0m\n\u001b[0;32m----> 1\u001b[0;31m \u001b[0mroot\u001b[0m \u001b[0;34m=\u001b[0m \u001b[0mDirectory\u001b[0m\u001b[0;34m(\u001b[0m\u001b[0;34m\"root\"\u001b[0m\u001b[0;34m,\u001b[0m\u001b[0;34m[\u001b[0m\u001b[0;34m]\u001b[0m\u001b[0;34m,\u001b[0m\u001b[0mowner\u001b[0m\u001b[0;34m=\u001b[0m\u001b[0;34m\"default\"\u001b[0m\u001b[0;34m)\u001b[0m\u001b[0;34m\u001b[0m\u001b[0;34m\u001b[0m\u001b[0m\n\u001b[0m",
      "\u001b[0;31mTypeError\u001b[0m: __init__() got an unexpected keyword argument 'owner'"
     ]
    }
   ],
   "source": [
    "root = Directory(\"root\",[],owner=\"default\")"
   ]
  },
  {
   "cell_type": "code",
   "execution_count": null,
   "id": "a3e66150",
   "metadata": {},
   "outputs": [],
   "source": []
  },
  {
   "cell_type": "code",
   "execution_count": null,
   "id": "6647c934",
   "metadata": {},
   "outputs": [],
   "source": []
  }
 ],
 "metadata": {
  "kernelspec": {
   "display_name": "Python 3",
   "language": "python",
   "name": "python3"
  },
  "language_info": {
   "codemirror_mode": {
    "name": "ipython",
    "version": 3
   },
   "file_extension": ".py",
   "mimetype": "text/x-python",
   "name": "python",
   "nbconvert_exporter": "python",
   "pygments_lexer": "ipython3",
   "version": "3.8.8"
  }
 },
 "nbformat": 4,
 "nbformat_minor": 5
}
